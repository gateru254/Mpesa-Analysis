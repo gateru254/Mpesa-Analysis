{
 "cells": [
  {
   "cell_type": "code",
   "execution_count": 1,
   "id": "de29f5ac-3bbd-46c2-b807-7aa9dc291669",
   "metadata": {
    "tags": []
   },
   "outputs": [],
   "source": [
    "import pandas as pd\n",
    "import tabula\n",
    "Mpesa=pd.read_excel(r'C:\\Users\\User\\Documents\\KELVIN MPESA.xlsx')"
   ]
  },
  {
   "cell_type": "code",
   "execution_count": 2,
   "id": "51403829-0a29-4884-9962-700c4263431a",
   "metadata": {
    "tags": []
   },
   "outputs": [
    {
     "data": {
      "text/html": [
       "<div>\n",
       "<style scoped>\n",
       "    .dataframe tbody tr th:only-of-type {\n",
       "        vertical-align: middle;\n",
       "    }\n",
       "\n",
       "    .dataframe tbody tr th {\n",
       "        vertical-align: top;\n",
       "    }\n",
       "\n",
       "    .dataframe thead th {\n",
       "        text-align: right;\n",
       "    }\n",
       "</style>\n",
       "<table border=\"1\" class=\"dataframe\">\n",
       "  <thead>\n",
       "    <tr style=\"text-align: right;\">\n",
       "      <th></th>\n",
       "      <th>Receipt No.</th>\n",
       "      <th>Completion Time</th>\n",
       "      <th>Completion Date</th>\n",
       "      <th>Details</th>\n",
       "      <th>Transaction Status</th>\n",
       "      <th>Paid In</th>\n",
       "      <th>Withdrawn</th>\n",
       "      <th>Balance</th>\n",
       "    </tr>\n",
       "  </thead>\n",
       "  <tbody>\n",
       "    <tr>\n",
       "      <th>0</th>\n",
       "      <td>SFA511HYRF</td>\n",
       "      <td>11:02:10</td>\n",
       "      <td>10-06-2024</td>\n",
       "      <td>Pay Bill Online Fuliza M-Pesa to\\n4097371 - 1X...</td>\n",
       "      <td>Completed</td>\n",
       "      <td>NaN</td>\n",
       "      <td>-400.00</td>\n",
       "      <td>0.00</td>\n",
       "    </tr>\n",
       "    <tr>\n",
       "      <th>1</th>\n",
       "      <td>SFA511HYRF</td>\n",
       "      <td>11:02:10</td>\n",
       "      <td>10-06-2024</td>\n",
       "      <td>OverDraft of Credit Party</td>\n",
       "      <td>Completed</td>\n",
       "      <td>400.00</td>\n",
       "      <td>NaN</td>\n",
       "      <td>400.00</td>\n",
       "    </tr>\n",
       "    <tr>\n",
       "      <th>2</th>\n",
       "      <td>SFA710PRIB</td>\n",
       "      <td>10:55:48</td>\n",
       "      <td>10-06-2024</td>\n",
       "      <td>Customer Transfer of Funds\\nCharge</td>\n",
       "      <td>Completed</td>\n",
       "      <td>NaN</td>\n",
       "      <td>-7.00</td>\n",
       "      <td>0.00</td>\n",
       "    </tr>\n",
       "    <tr>\n",
       "      <th>3</th>\n",
       "      <td>SFA710PRIB</td>\n",
       "      <td>10:55:48</td>\n",
       "      <td>10-06-2024</td>\n",
       "      <td>Customer Transfer Fuliza MPesa\\nto - 01******5...</td>\n",
       "      <td>Completed</td>\n",
       "      <td>NaN</td>\n",
       "      <td>-500.00</td>\n",
       "      <td>7.00</td>\n",
       "    </tr>\n",
       "    <tr>\n",
       "      <th>4</th>\n",
       "      <td>SFA710PRIB</td>\n",
       "      <td>10:55:48</td>\n",
       "      <td>10-06-2024</td>\n",
       "      <td>OverDraft of Credit Party</td>\n",
       "      <td>Completed</td>\n",
       "      <td>46.59</td>\n",
       "      <td>NaN</td>\n",
       "      <td>507.00</td>\n",
       "    </tr>\n",
       "    <tr>\n",
       "      <th>5</th>\n",
       "      <td>SFA8ZWNL20</td>\n",
       "      <td>10:22:26</td>\n",
       "      <td>10-06-2024</td>\n",
       "      <td>Business Payment from 3030523\\n- 1XBET-B2C via...</td>\n",
       "      <td>Completed</td>\n",
       "      <td>420.00</td>\n",
       "      <td>NaN</td>\n",
       "      <td>460.41</td>\n",
       "    </tr>\n",
       "    <tr>\n",
       "      <th>6</th>\n",
       "      <td>SFA9ZQ0QPR</td>\n",
       "      <td>09:24:44</td>\n",
       "      <td>10-06-2024</td>\n",
       "      <td>Customer Transfer of Funds\\nCharge</td>\n",
       "      <td>Completed</td>\n",
       "      <td>NaN</td>\n",
       "      <td>-13.00</td>\n",
       "      <td>40.41</td>\n",
       "    </tr>\n",
       "    <tr>\n",
       "      <th>7</th>\n",
       "      <td>SFA9ZQ0QPR</td>\n",
       "      <td>09:24:44</td>\n",
       "      <td>10-06-2024</td>\n",
       "      <td>Customer Transfer to -\\n2547******421 ISAAC LE...</td>\n",
       "      <td>Completed</td>\n",
       "      <td>NaN</td>\n",
       "      <td>-600.00</td>\n",
       "      <td>53.41</td>\n",
       "    </tr>\n",
       "    <tr>\n",
       "      <th>8</th>\n",
       "      <td>SFA5ZPU5UP</td>\n",
       "      <td>09:23:05</td>\n",
       "      <td>10-06-2024</td>\n",
       "      <td>Business Payment from 222112 -\\nFamily Bank Lt...</td>\n",
       "      <td>Completed</td>\n",
       "      <td>1000.00</td>\n",
       "      <td>NaN</td>\n",
       "      <td>1000.00</td>\n",
       "    </tr>\n",
       "    <tr>\n",
       "      <th>9</th>\n",
       "      <td>SFA5ZPU24T</td>\n",
       "      <td>09:23:05</td>\n",
       "      <td>10-06-2024</td>\n",
       "      <td>OD Loan Repayment to 232323 -\\nM-PESA Overdraw</td>\n",
       "      <td>Completed</td>\n",
       "      <td>NaN</td>\n",
       "      <td>-346.59</td>\n",
       "      <td>653.41</td>\n",
       "    </tr>\n",
       "  </tbody>\n",
       "</table>\n",
       "</div>"
      ],
      "text/plain": [
       "  Receipt No. Completion Time Completion Date  \\\n",
       "0  SFA511HYRF        11:02:10      10-06-2024   \n",
       "1  SFA511HYRF        11:02:10      10-06-2024   \n",
       "2  SFA710PRIB        10:55:48      10-06-2024   \n",
       "3  SFA710PRIB        10:55:48      10-06-2024   \n",
       "4  SFA710PRIB        10:55:48      10-06-2024   \n",
       "5  SFA8ZWNL20        10:22:26      10-06-2024   \n",
       "6  SFA9ZQ0QPR        09:24:44      10-06-2024   \n",
       "7  SFA9ZQ0QPR        09:24:44      10-06-2024   \n",
       "8  SFA5ZPU5UP        09:23:05      10-06-2024   \n",
       "9  SFA5ZPU24T        09:23:05      10-06-2024   \n",
       "\n",
       "                                             Details Transaction Status  \\\n",
       "0  Pay Bill Online Fuliza M-Pesa to\\n4097371 - 1X...          Completed   \n",
       "1                          OverDraft of Credit Party          Completed   \n",
       "2                 Customer Transfer of Funds\\nCharge          Completed   \n",
       "3  Customer Transfer Fuliza MPesa\\nto - 01******5...          Completed   \n",
       "4                          OverDraft of Credit Party          Completed   \n",
       "5  Business Payment from 3030523\\n- 1XBET-B2C via...          Completed   \n",
       "6                 Customer Transfer of Funds\\nCharge          Completed   \n",
       "7  Customer Transfer to -\\n2547******421 ISAAC LE...          Completed   \n",
       "8  Business Payment from 222112 -\\nFamily Bank Lt...          Completed   \n",
       "9     OD Loan Repayment to 232323 -\\nM-PESA Overdraw          Completed   \n",
       "\n",
       "   Paid In  Withdrawn  Balance  \n",
       "0      NaN    -400.00     0.00  \n",
       "1   400.00        NaN   400.00  \n",
       "2      NaN      -7.00     0.00  \n",
       "3      NaN    -500.00     7.00  \n",
       "4    46.59        NaN   507.00  \n",
       "5   420.00        NaN   460.41  \n",
       "6      NaN     -13.00    40.41  \n",
       "7      NaN    -600.00    53.41  \n",
       "8  1000.00        NaN  1000.00  \n",
       "9      NaN    -346.59   653.41  "
      ]
     },
     "execution_count": 2,
     "metadata": {},
     "output_type": "execute_result"
    }
   ],
   "source": [
    "Mpesa.head(10)"
   ]
  },
  {
   "cell_type": "code",
   "execution_count": null,
   "id": "20a7aa94-3541-4dd0-a0f9-68b2b7097e09",
   "metadata": {},
   "outputs": [],
   "source": []
  },
  {
   "cell_type": "code",
   "execution_count": 3,
   "id": "4f09ad28-2a0d-446c-a28d-09cbdfaa99b1",
   "metadata": {
    "tags": []
   },
   "outputs": [
    {
     "data": {
      "text/plain": [
       "0       Pay Bill Online Fuliza M-Pesa to\\n4097371 - 1X...\n",
       "1                               OverDraft of Credit Party\n",
       "2                      Customer Transfer of Funds\\nCharge\n",
       "3       Customer Transfer Fuliza MPesa\\nto - 01******5...\n",
       "4                               OverDraft of Credit Party\n",
       "                              ...                        \n",
       "2117    Business Payment from 3030523\\n- 1XBET-B2C via...\n",
       "2118    Pay Bill Online Fuliza M-Pesa to\\n4097371 - 1X...\n",
       "2119                            OverDraft of Credit Party\n",
       "2120                         Airtime Purchase with Fuliza\n",
       "2121                            OverDraft of Credit Party\n",
       "Name: Details, Length: 2122, dtype: object"
      ]
     },
     "execution_count": 3,
     "metadata": {},
     "output_type": "execute_result"
    }
   ],
   "source": [
    "Mpesa['Details']"
   ]
  },
  {
   "cell_type": "code",
   "execution_count": 4,
   "id": "1f1b2f8d-c61a-4a78-a5e8-c71ccaae1ae5",
   "metadata": {
    "tags": []
   },
   "outputs": [],
   "source": [
    "Mpesa['Withdrawn']=pd.to_numeric(Mpesa['Withdrawn'])\n",
    "Mpesa['Withdrawn']=Mpesa['Withdrawn'].abs()\n",
    "\n"
   ]
  },
  {
   "cell_type": "code",
   "execution_count": 5,
   "id": "24293374-bcc2-423e-a831-108a75705135",
   "metadata": {
    "tags": []
   },
   "outputs": [],
   "source": [
    "filtered_df = Mpesa[Mpesa['Details'].str.contains('1XBET-C2B', case=False, na=False)]"
   ]
  },
  {
   "cell_type": "code",
   "execution_count": 6,
   "id": "742b816e-a934-49b3-821a-4e90c21ecc14",
   "metadata": {},
   "outputs": [],
   "source": [
    "Kevinmpesa = filtered_df[filtered_df['Withdrawn'] > 0]"
   ]
  },
  {
   "cell_type": "code",
   "execution_count": 7,
   "id": "2f771be3-c4c5-48b4-a7f3-1a7b40f6819d",
   "metadata": {
    "tags": []
   },
   "outputs": [
    {
     "name": "stdout",
     "output_type": "stream",
     "text": [
      "21090.0\n"
     ]
    }
   ],
   "source": [
    "Sum_kevinmpesa = filtered_df['Withdrawn'].sum()\n",
    "print(Sum_kevinmpesa)"
   ]
  },
  {
   "cell_type": "code",
   "execution_count": 8,
   "id": "afef120d-5d7e-4967-bdb6-132fb762e60f",
   "metadata": {
    "tags": []
   },
   "outputs": [],
   "source": [
    "Paid_by_1xbet=Mpesa[Mpesa['Details'].str.contains('1XBET-B2C',case=False, na=False)]"
   ]
  },
  {
   "cell_type": "code",
   "execution_count": 9,
   "id": "1d677f19-fe1c-4088-8a12-03b057f6f247",
   "metadata": {
    "tags": []
   },
   "outputs": [
    {
     "name": "stdout",
     "output_type": "stream",
     "text": [
      "12500.0\n"
     ]
    }
   ],
   "source": [
    "Paid_by_1xbet_df=Paid_by_1xbet[Paid_by_1xbet['Paid In']>0]\n",
    "sum_Paid_by_1xbet=Paid_by_1xbet['Paid In'].sum()\n",
    "print(sum_Paid_by_1xbet)                               "
   ]
  },
  {
   "cell_type": "code",
   "execution_count": 10,
   "id": "49074be2-5d23-4ebf-893f-08964e84b692",
   "metadata": {
    "tags": []
   },
   "outputs": [],
   "source": [
    "Loss=Sum_kevinmpesa-sum_Paid_by_1xbet"
   ]
  },
  {
   "cell_type": "code",
   "execution_count": 11,
   "id": "3149efb9-a86d-4a72-91e7-a10a5e8fdb21",
   "metadata": {
    "tags": []
   },
   "outputs": [
    {
     "name": "stdout",
     "output_type": "stream",
     "text": [
      "8590.0\n"
     ]
    }
   ],
   "source": [
    "print(Loss)"
   ]
  },
  {
   "cell_type": "code",
   "execution_count": 12,
   "id": "4aaec3be-83f4-4cb2-b678-1b6cf2c12872",
   "metadata": {
    "tags": []
   },
   "outputs": [],
   "source": [
    "Bank_df=Mpesa[Mpesa['Details'].str.contains('Business Payment from 222112',case=False,na=False)]"
   ]
  },
  {
   "cell_type": "code",
   "execution_count": 13,
   "id": "5dfa3941-9b83-4f90-a331-4b52117dabdb",
   "metadata": {
    "tags": []
   },
   "outputs": [
    {
     "name": "stdout",
     "output_type": "stream",
     "text": [
      "81900.0\n"
     ]
    }
   ],
   "source": [
    "Mobilebank=Bank_df[Bank_df['Paid In']>0]\n",
    "Mobilebank_df=Bank_df['Paid In'].sum()\n",
    "print(Mobilebank_df)"
   ]
  },
  {
   "cell_type": "code",
   "execution_count": 14,
   "id": "00846855-7b6a-4a60-b73d-f43b37103b09",
   "metadata": {
    "tags": []
   },
   "outputs": [
    {
     "name": "stdout",
     "output_type": "stream",
     "text": [
      "     Receipt No. Completion Time Completion Date  \\\n",
      "24    SF92WB8U06        10:04:16      09-06-2024   \n",
      "30    SF88SS6IQC        11:12:33      08-06-2024   \n",
      "31    SF82SAG4MM        08:38:56      08-06-2024   \n",
      "34    SF74R7L7CA        20:10:10      07-06-2024   \n",
      "38    SF70Q3HLC6        16:26:53      07-06-2024   \n",
      "...          ...             ...             ...   \n",
      "2065  SA38X20ME2        01:25:22      03-01-2024   \n",
      "2069  SA26X03H58        23:42:00      02-01-2024   \n",
      "2102  SA10SNI1NM        15:40:25      01-01-2024   \n",
      "2114  RLV9QWE2YV        22:39:15      31-12-2023   \n",
      "2120  RLV1QR88J3        21:39:43      31-12-2023   \n",
      "\n",
      "                           Details Transaction Status  Paid In  Withdrawn  \\\n",
      "24    Airtime Purchase with Fuliza          Completed      NaN       30.0   \n",
      "30                Airtime Purchase          Completed      NaN      100.0   \n",
      "31                Airtime Purchase          Completed      NaN       30.0   \n",
      "34                Airtime Purchase          Completed      NaN       50.0   \n",
      "38    Airtime Purchase with Fuliza          Completed      NaN       25.0   \n",
      "...                            ...                ...      ...        ...   \n",
      "2065  Airtime Purchase with Fuliza          Completed      NaN       37.0   \n",
      "2069  Airtime Purchase with Fuliza          Completed      NaN       50.0   \n",
      "2102  Airtime Purchase with Fuliza          Completed      NaN      100.0   \n",
      "2114  Airtime Purchase with Fuliza          Completed      NaN      180.0   \n",
      "2120  Airtime Purchase with Fuliza          Completed      NaN      100.0   \n",
      "\n",
      "      Balance  \n",
      "24       0.00  \n",
      "30     108.75  \n",
      "31     208.75  \n",
      "34     508.75  \n",
      "38       0.00  \n",
      "...       ...  \n",
      "2065     0.00  \n",
      "2069     0.00  \n",
      "2102     0.00  \n",
      "2114     0.00  \n",
      "2120     0.00  \n",
      "\n",
      "[91 rows x 8 columns]\n"
     ]
    }
   ],
   "source": [
    "Airtime=Mpesa[Mpesa['Details'].str.contains('Airtime Purchase',case=False,na=False)]\n",
    "print(Airtime)"
   ]
  },
  {
   "cell_type": "code",
   "execution_count": 15,
   "id": "52927b87-0447-4809-9cd7-9bd90ae4a7ee",
   "metadata": {
    "tags": []
   },
   "outputs": [
    {
     "name": "stdout",
     "output_type": "stream",
     "text": [
      "8050.0\n"
     ]
    }
   ],
   "source": [
    "Mpesa['Withdrawn']=pd.to_numeric(Mpesa['Withdrawn'])\n",
    "Mpesa['Withdrawn']=Mpesa['Withdrawn'].abs()\n",
    "Airtime=Mpesa[Mpesa['Details'].str.contains('Airtime Purchase',case=False,na=False)]\n",
    "Airtime_purchased=Airtime[Airtime['Withdrawn']>0]\n",
    "Airtime_used=Airtime['Withdrawn'].sum()\n",
    "print(Airtime_used)                          "
   ]
  },
  {
   "cell_type": "code",
   "execution_count": 18,
   "id": "ef7b0e7a-c544-4a99-8df3-5e8afa2299f7",
   "metadata": {
    "tags": []
   },
   "outputs": [
    {
     "name": "stdout",
     "output_type": "stream",
     "text": [
      "2885.0\n"
     ]
    }
   ],
   "source": [
    "Mpesa['Withdrawn']=pd.to_numeric(Mpesa['Withdrawn'])\n",
    "Mpesa['Withdrawn']=Mpesa['Withdrawn'].abs()\n",
    "food_Nerisha=Mpesa[Mpesa['Details'].str.contains('NERISHA',case=False,na=False)]\n",
    "food_nerisha=food_Nerisha[food_Nerisha['Withdrawn']>0]\n",
    "vegetables_bought=food_nerisha['Withdrawn'].sum()\n",
    "print(vegetables_bought)                          "
   ]
  },
  {
   "cell_type": "code",
   "execution_count": 25,
   "id": "ad2b1289-6c94-432d-940a-4a96faf0e746",
   "metadata": {
    "tags": []
   },
   "outputs": [
    {
     "name": "stdout",
     "output_type": "stream",
     "text": [
      "3600.0\n"
     ]
    }
   ],
   "source": [
    "Mw=Mpesa[Mpesa['Details'].str.contains('MERCY',case=False,na=False)]\n",
    "mw=Mw[Mw['Withdrawn']>0]\n",
    "mw_veg=mw['Withdrawn'].sum()\n",
    "print(mw_veg)"
   ]
  },
  {
   "cell_type": "raw",
   "id": "bc4bfb9a-62d8-4ed8-a8be-677057872f83",
   "metadata": {
    "tags": []
   },
   "source": [
    "print(Mw)"
   ]
  },
  {
   "cell_type": "code",
   "execution_count": 29,
   "id": "fa9c9bf6-8447-4d0c-853a-83b0d893262b",
   "metadata": {
    "tags": []
   },
   "outputs": [
    {
     "name": "stdout",
     "output_type": "stream",
     "text": [
      "OverDraft of Credit Party                                                                                                   704\n",
      "OD Loan Repayment to 232323 -\\nM-PESA Overdraw                                                                              187\n",
      "Airtime Purchase with Fuliza                                                                                                 71\n",
      "Merchant Payment Fuliza M-Pesa\\nto 461189 - BLISSMAKS\\nSERVICES LTD                                                          69\n",
      "Pay Bill Charge                                                                                                              67\n",
      "                                                                                                                           ... \n",
      "Business Payment from 222112 -\\nFamily Bank Ltd Pesa Pap via\\nAPI. Original conversation ID is\\n20240401125839-52526064.      1\n",
      "Merchant Payment Fuliza M-Pesa\\nto 7119821 - Mylo Shirts Ke via\\nKopo Kopo                                                    1\n",
      "Merchant Payment Fuliza M-Pesa\\nto 6349976 - BASIGO Jani -\\nKDL236X                                                           1\n",
      "Business Payment from 545100 -\\niPay Limited via API. Original\\nconversation ID is\\nXBET2274316A41711983606945\\n10294.        1\n",
      "Pay Bill Online Fuliza M-Pesa to\\n4097371 - 1XBET-C2B Acc.\\nwt44820496                                                        1\n",
      "Name: Details, Length: 644, dtype: int64\n"
     ]
    }
   ],
   "source": [
    "print(Mpesa['Details'].value_counts())"
   ]
  },
  {
   "cell_type": "code",
   "execution_count": 31,
   "id": "cc7f78e7-bb81-44dd-844d-4332099aca48",
   "metadata": {
    "tags": []
   },
   "outputs": [
    {
     "name": "stdout",
     "output_type": "stream",
     "text": [
      "           Paid In    Withdrawn      Balance\n",
      "count   912.000000  1210.000000  2122.000000\n",
      "mean    228.729331   175.311959   288.624571\n",
      "std     404.607429   279.901309   803.452354\n",
      "min       0.700000     2.000000     0.000000\n",
      "25%      50.000000    30.000000     0.000000\n",
      "50%     100.000000    70.000000    30.000000\n",
      "75%     279.750000   200.000000   162.250000\n",
      "max    6800.000000  3500.000000  6800.000000\n"
     ]
    }
   ],
   "source": [
    "print(Mpesa.describe())"
   ]
  },
  {
   "cell_type": "code",
   "execution_count": null,
   "id": "7cabacee-df63-4a87-92fd-a759100fd406",
   "metadata": {},
   "outputs": [],
   "source": []
  }
 ],
 "metadata": {
  "kernelspec": {
   "display_name": "Python 3 (ipykernel)",
   "language": "python",
   "name": "python3"
  },
  "language_info": {
   "codemirror_mode": {
    "name": "ipython",
    "version": 3
   },
   "file_extension": ".py",
   "mimetype": "text/x-python",
   "name": "python",
   "nbconvert_exporter": "python",
   "pygments_lexer": "ipython3",
   "version": "3.11.3"
  }
 },
 "nbformat": 4,
 "nbformat_minor": 5
}
